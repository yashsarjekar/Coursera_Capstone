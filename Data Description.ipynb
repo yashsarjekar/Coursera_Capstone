{
    "cells": [
        {
            "metadata": {
                "collapsed": true
            },
            "cell_type": "markdown",
            "source": "# The Battle of Neighborhoods | Data Description"
        },
        {
            "metadata": {},
            "cell_type": "markdown",
            "source": "## Data Description:"
        },
        {
            "metadata": {},
            "cell_type": "markdown",
            "source": "Data Link: https://en.wikipedia.org/wiki/List_of_postal_codes_of_Canada:_M"
        },
        {
            "metadata": {},
            "cell_type": "markdown",
            "source": "Will use Scarborough dataset which we scrapped from wikipedia. Dataset consisting of latitude and longitude, zip codes."
        },
        {
            "metadata": {},
            "cell_type": "markdown",
            "source": "## Foursquare API Data:"
        },
        {
            "metadata": {},
            "cell_type": "code",
            "source": "",
            "execution_count": null,
            "outputs": []
        }
    ],
    "metadata": {
        "kernelspec": {
            "name": "python3",
            "display_name": "Python 3.7",
            "language": "python"
        },
        "language_info": {
            "name": "python",
            "version": "3.7.9",
            "mimetype": "text/x-python",
            "codemirror_mode": {
                "name": "ipython",
                "version": 3
            },
            "pygments_lexer": "ipython3",
            "nbconvert_exporter": "python",
            "file_extension": ".py"
        }
    },
    "nbformat": 4,
    "nbformat_minor": 1
}