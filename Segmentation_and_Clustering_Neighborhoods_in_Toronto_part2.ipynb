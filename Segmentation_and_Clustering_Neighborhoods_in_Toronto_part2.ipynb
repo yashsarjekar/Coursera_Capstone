{
    "cells": [
        {
            "cell_type": "code",
            "execution_count": 1,
            "metadata": {},
            "outputs": [
                {
                    "name": "stdout",
                    "output_type": "stream",
                    "text": "Requirement already satisfied: geocoder in /opt/conda/envs/Python-3.7-main/lib/python3.7/site-packages (1.38.1)\nRequirement already satisfied: six in /opt/conda/envs/Python-3.7-main/lib/python3.7/site-packages (from geocoder) (1.15.0)\nRequirement already satisfied: requests in /opt/conda/envs/Python-3.7-main/lib/python3.7/site-packages (from geocoder) (2.24.0)\nRequirement already satisfied: click in /opt/conda/envs/Python-3.7-main/lib/python3.7/site-packages (from geocoder) (7.1.2)\nRequirement already satisfied: future in /opt/conda/envs/Python-3.7-main/lib/python3.7/site-packages (from geocoder) (0.18.2)\nRequirement already satisfied: ratelim in /opt/conda/envs/Python-3.7-main/lib/python3.7/site-packages (from geocoder) (0.1.6)\nRequirement already satisfied: idna<3,>=2.5 in /opt/conda/envs/Python-3.7-main/lib/python3.7/site-packages (from requests->geocoder) (2.9)\nRequirement already satisfied: urllib3!=1.25.0,!=1.25.1,<1.26,>=1.21.1 in /opt/conda/envs/Python-3.7-main/lib/python3.7/site-packages (from requests->geocoder) (1.25.9)\nRequirement already satisfied: chardet<4,>=3.0.2 in /opt/conda/envs/Python-3.7-main/lib/python3.7/site-packages (from requests->geocoder) (3.0.4)\nRequirement already satisfied: certifi>=2017.4.17 in /opt/conda/envs/Python-3.7-main/lib/python3.7/site-packages (from requests->geocoder) (2020.6.20)\nRequirement already satisfied: decorator in /opt/conda/envs/Python-3.7-main/lib/python3.7/site-packages (from ratelim->geocoder) (4.4.2)\n"
                }
            ],
            "source": "!pip install geocoder"
        },
        {
            "cell_type": "code",
            "execution_count": 2,
            "metadata": {},
            "outputs": [
                {
                    "data": {
                        "text/html": "<div>\n<style scoped>\n    .dataframe tbody tr th:only-of-type {\n        vertical-align: middle;\n    }\n\n    .dataframe tbody tr th {\n        vertical-align: top;\n    }\n\n    .dataframe thead th {\n        text-align: right;\n    }\n</style>\n<table border=\"1\" class=\"dataframe\">\n  <thead>\n    <tr style=\"text-align: right;\">\n      <th></th>\n      <th>Postalcode</th>\n      <th>Borough</th>\n      <th>Neighborhood</th>\n    </tr>\n  </thead>\n  <tbody>\n    <tr>\n      <th>0</th>\n      <td>M1B</td>\n      <td>Scarborough</td>\n      <td>Malvern, Rouge</td>\n    </tr>\n    <tr>\n      <th>1</th>\n      <td>M1C</td>\n      <td>Scarborough</td>\n      <td>Rouge Hill, Port Union, Highland Creek</td>\n    </tr>\n    <tr>\n      <th>2</th>\n      <td>M1E</td>\n      <td>Scarborough</td>\n      <td>Guildwood, Morningside, West Hill</td>\n    </tr>\n    <tr>\n      <th>3</th>\n      <td>M1G</td>\n      <td>Scarborough</td>\n      <td>Woburn</td>\n    </tr>\n    <tr>\n      <th>4</th>\n      <td>M1H</td>\n      <td>Scarborough</td>\n      <td>Cedarbrae</td>\n    </tr>\n  </tbody>\n</table>\n</div>",
                        "text/plain": "  Postalcode      Borough                            Neighborhood\n0        M1B  Scarborough                          Malvern, Rouge\n1        M1C  Scarborough  Rouge Hill, Port Union, Highland Creek\n2        M1E  Scarborough       Guildwood, Morningside, West Hill\n3        M1G  Scarborough                                  Woburn\n4        M1H  Scarborough                               Cedarbrae"
                    },
                    "execution_count": 2,
                    "metadata": {},
                    "output_type": "execute_result"
                }
            ],
            "source": "# The code was removed by Watson Studio for sharing."
        },
        {
            "cell_type": "code",
            "execution_count": 3,
            "metadata": {},
            "outputs": [
                {
                    "name": "stdout",
                    "output_type": "stream",
                    "text": "(103, 3)\n"
                },
                {
                    "data": {
                        "text/html": "<div>\n<style scoped>\n    .dataframe tbody tr th:only-of-type {\n        vertical-align: middle;\n    }\n\n    .dataframe tbody tr th {\n        vertical-align: top;\n    }\n\n    .dataframe thead th {\n        text-align: right;\n    }\n</style>\n<table border=\"1\" class=\"dataframe\">\n  <thead>\n    <tr style=\"text-align: right;\">\n      <th></th>\n      <th>Postalcode</th>\n      <th>Borough</th>\n      <th>Neighborhood</th>\n    </tr>\n  </thead>\n  <tbody>\n    <tr>\n      <th>count</th>\n      <td>103</td>\n      <td>103</td>\n      <td>103</td>\n    </tr>\n    <tr>\n      <th>unique</th>\n      <td>103</td>\n      <td>10</td>\n      <td>99</td>\n    </tr>\n    <tr>\n      <th>top</th>\n      <td>M1R</td>\n      <td>North York</td>\n      <td>Downsview</td>\n    </tr>\n    <tr>\n      <th>freq</th>\n      <td>1</td>\n      <td>24</td>\n      <td>4</td>\n    </tr>\n  </tbody>\n</table>\n</div>",
                        "text/plain": "       Postalcode     Borough Neighborhood\ncount         103         103          103\nunique        103          10           99\ntop           M1R  North York    Downsview\nfreq            1          24            4"
                    },
                    "execution_count": 3,
                    "metadata": {},
                    "output_type": "execute_result"
                }
            ],
            "source": "print(df_data_1.shape)\ndf_data_1.describe()"
        },
        {
            "cell_type": "code",
            "execution_count": 4,
            "metadata": {},
            "outputs": [
                {
                    "data": {
                        "text/plain": "[43.709020000000066, -79.36348999999996]"
                    },
                    "execution_count": 4,
                    "metadata": {},
                    "output_type": "execute_result"
                }
            ],
            "source": "def get_lat_lng(postalcode):\n    lat_lng_cod = None\n    p = geocoder.arcgis('{}, Toronto, Ontario'.format(postalcode))\n    lat_lng_cod = p.latlng\n    return lat_lng_cod\nget_lat_lng('M4G')"
        },
        {
            "cell_type": "code",
            "execution_count": 5,
            "metadata": {},
            "outputs": [],
            "source": "postal_codes = df_data_1['Postalcode']"
        },
        {
            "cell_type": "code",
            "execution_count": 7,
            "metadata": {},
            "outputs": [
                {
                    "data": {
                        "text/plain": "[[43.811390000000074, -79.19661999999994],\n [43.78574000000003, -79.15874999999994],\n [43.765750000000025, -79.17469999999997],\n [43.76812000000007, -79.21760999999998],\n [43.76944000000003, -79.23891999999995],\n [43.74446000000006, -79.23116999999996],\n [43.725820000000056, -79.26460999999995],\n [43.71289000000007, -79.28505999999999],\n [43.72360000000003, -79.23495999999994],\n [43.695100000000025, -79.26465999999994],\n [43.75998000000004, -79.26939999999996],\n [43.75075000000004, -79.30053999999996],\n [43.794520000000034, -79.26707999999996],\n [43.784910000000025, -79.29721999999998],\n [43.817810000000065, -79.28043999999994],\n [43.80079000000006, -79.32161999999994],\n [43.83412000000004, -79.21667999999994],\n [43.80225000000007, -79.35557999999997],\n [43.780970000000025, -79.34780999999998],\n [43.781120000000044, -79.38059999999996],\n [43.756980000000055, -79.38059999999996],\n [43.79182000000003, -79.41371999999996],\n [43.76774000000006, -79.40727999999996],\n [43.747780000000034, -79.40032999999994],\n [43.77989000000008, -79.44677999999999],\n [43.75245000000007, -79.32990999999998],\n [43.74923000000007, -79.36185999999998],\n [43.72168000000005, -79.34351999999996],\n [43.75788000000006, -79.44846999999999],\n [43.76476000000008, -79.48797999999994],\n [43.73384000000004, -79.46827999999994],\n [43.720710000000054, -79.51700999999997],\n [43.73224000000005, -79.50177999999994],\n [43.75478000000004, -79.51958999999994],\n [43.73057000000006, -79.31305999999995],\n [43.70718000000005, -79.31191999999999],\n [43.68970000000007, -79.30681999999996],\n [43.67709000000008, -79.29546999999997],\n [43.709020000000066, -79.36348999999996],\n [43.70142000000004, -79.34904999999998],\n [43.68811000000005, -79.33417999999995],\n [43.68375000000003, -79.35511999999994],\n [43.667970000000025, -79.31466999999998],\n [43.66213000000005, -79.33496999999994],\n [43.72843000000006, -79.38712999999996],\n [43.71276000000006, -79.38850999999994],\n [43.71458000000007, -79.40667999999994],\n [43.703400000000045, -79.38658999999996],\n [43.690480000000036, -79.38317999999998],\n [43.68568000000005, -79.40236999999996],\n [43.68190000000004, -79.37828999999994],\n [43.667880000000025, -79.36648999999994],\n [43.66659000000004, -79.38132999999993],\n [43.65512000000007, -79.36263999999994],\n [43.65739000000008, -79.37803999999994],\n [43.65215000000006, -79.37586999999996],\n [43.64536000000004, -79.37305999999995],\n [43.65609000000006, -79.38492999999994],\n [43.64970000000005, -79.38257999999996],\n [43.64285000000007, -79.38075999999995],\n [43.64710000000008, -79.38152999999994],\n [43.64840000000004, -79.37913999999995],\n [43.73545000000007, -79.41915999999998],\n [43.71208000000007, -79.41847999999999],\n [43.69479000000007, -79.41439999999994],\n [43.674840000000074, -79.40451999999993],\n [43.663110000000074, -79.40179999999998],\n [43.65351000000004, -79.39721999999995],\n [43.640820000000076, -79.39817999999997],\n [43.648690000000045, -79.38543999999996],\n [43.64828000000006, -79.38145999999995],\n [43.72327000000007, -79.45041999999995],\n [43.70687000000004, -79.44811999999996],\n [43.69211000000007, -79.43035999999995],\n [43.68784000000005, -79.45045999999996],\n [43.668690000000026, -79.42070999999999],\n [43.665050000000065, -79.43890999999996],\n [43.64848000000006, -79.41773999999998],\n [43.639410000000055, -79.42675999999994],\n [43.71381000000008, -79.48873999999995],\n [43.695170000000076, -79.48396999999994],\n [43.67646000000008, -79.48271999999997],\n [43.659730000000025, -79.46280999999993],\n [43.64777000000004, -79.44988999999998],\n [43.649820000000034, -79.47547999999995],\n [43.66253000000006, -79.39187999999996],\n [43.648690000000045, -79.38543999999996],\n [43.648690000000045, -79.38543999999996],\n [43.60987000000006, -79.49808999999993],\n [43.601240000000075, -79.53878999999995],\n [43.65319000000005, -79.51112999999998],\n [43.632780000000025, -79.48944999999998],\n [43.62513000000007, -79.52680999999995],\n [43.662630000000036, -79.52830999999998],\n [43.65034000000003, -79.55361999999997],\n [43.64857000000006, -79.57824999999997],\n [43.75948000000005, -79.55706999999995],\n [43.733670000000075, -79.53768999999994],\n [43.705070000000035, -79.51803999999998],\n [43.696300000000065, -79.52925999999997],\n [43.68681000000004, -79.55727999999993],\n [43.744530000000054, -79.58623999999998],\n [43.71174000000008, -79.57940999999994]]"
                    },
                    "execution_count": 7,
                    "metadata": {},
                    "output_type": "execute_result"
                }
            ],
            "source": "coord = []\nfor i in postal_codes.tolist():\n    coord.append(get_lat_lng(i))\ncoord"
        },
        {
            "cell_type": "code",
            "execution_count": 8,
            "metadata": {},
            "outputs": [],
            "source": "df_coord = pd.DataFrame(coord,columns=['Latitude','Longitude'])\ndf_data_1['Latitude'] = df_coord['Latitude']\ndf_data_1['Longitude'] = df_coord['Longitude']"
        },
        {
            "cell_type": "code",
            "execution_count": 9,
            "metadata": {},
            "outputs": [
                {
                    "data": {
                        "text/html": "<div>\n<style scoped>\n    .dataframe tbody tr th:only-of-type {\n        vertical-align: middle;\n    }\n\n    .dataframe tbody tr th {\n        vertical-align: top;\n    }\n\n    .dataframe thead th {\n        text-align: right;\n    }\n</style>\n<table border=\"1\" class=\"dataframe\">\n  <thead>\n    <tr style=\"text-align: right;\">\n      <th></th>\n      <th>Postalcode</th>\n      <th>Borough</th>\n      <th>Neighborhood</th>\n      <th>Latitude</th>\n      <th>Longitude</th>\n    </tr>\n  </thead>\n  <tbody>\n    <tr>\n      <th>0</th>\n      <td>M1B</td>\n      <td>Scarborough</td>\n      <td>Malvern, Rouge</td>\n      <td>43.81139</td>\n      <td>-79.19662</td>\n    </tr>\n    <tr>\n      <th>1</th>\n      <td>M1C</td>\n      <td>Scarborough</td>\n      <td>Rouge Hill, Port Union, Highland Creek</td>\n      <td>43.78574</td>\n      <td>-79.15875</td>\n    </tr>\n    <tr>\n      <th>2</th>\n      <td>M1E</td>\n      <td>Scarborough</td>\n      <td>Guildwood, Morningside, West Hill</td>\n      <td>43.76575</td>\n      <td>-79.17470</td>\n    </tr>\n    <tr>\n      <th>3</th>\n      <td>M1G</td>\n      <td>Scarborough</td>\n      <td>Woburn</td>\n      <td>43.76812</td>\n      <td>-79.21761</td>\n    </tr>\n    <tr>\n      <th>4</th>\n      <td>M1H</td>\n      <td>Scarborough</td>\n      <td>Cedarbrae</td>\n      <td>43.76944</td>\n      <td>-79.23892</td>\n    </tr>\n    <tr>\n      <th>5</th>\n      <td>M1J</td>\n      <td>Scarborough</td>\n      <td>Scarborough Village</td>\n      <td>43.74446</td>\n      <td>-79.23117</td>\n    </tr>\n    <tr>\n      <th>6</th>\n      <td>M1K</td>\n      <td>Scarborough</td>\n      <td>Kennedy Park, Ionview, East Birchmount Park</td>\n      <td>43.72582</td>\n      <td>-79.26461</td>\n    </tr>\n    <tr>\n      <th>7</th>\n      <td>M1L</td>\n      <td>Scarborough</td>\n      <td>Golden Mile, Clairlea, Oakridge</td>\n      <td>43.71289</td>\n      <td>-79.28506</td>\n    </tr>\n    <tr>\n      <th>8</th>\n      <td>M1M</td>\n      <td>Scarborough</td>\n      <td>Cliffside, Cliffcrest, Scarborough Village West</td>\n      <td>43.72360</td>\n      <td>-79.23496</td>\n    </tr>\n    <tr>\n      <th>9</th>\n      <td>M1N</td>\n      <td>Scarborough</td>\n      <td>Birch Cliff, Cliffside West</td>\n      <td>43.69510</td>\n      <td>-79.26466</td>\n    </tr>\n    <tr>\n      <th>10</th>\n      <td>M1P</td>\n      <td>Scarborough</td>\n      <td>Dorset Park, Wexford Heights, Scarborough Town...</td>\n      <td>43.75998</td>\n      <td>-79.26940</td>\n    </tr>\n    <tr>\n      <th>11</th>\n      <td>M1R</td>\n      <td>Scarborough</td>\n      <td>Wexford, Maryvale</td>\n      <td>43.75075</td>\n      <td>-79.30054</td>\n    </tr>\n    <tr>\n      <th>12</th>\n      <td>M1S</td>\n      <td>Scarborough</td>\n      <td>Agincourt</td>\n      <td>43.79452</td>\n      <td>-79.26708</td>\n    </tr>\n    <tr>\n      <th>13</th>\n      <td>M1T</td>\n      <td>Scarborough</td>\n      <td>Clarks Corners, Tam O'Shanter, Sullivan</td>\n      <td>43.78491</td>\n      <td>-79.29722</td>\n    </tr>\n    <tr>\n      <th>14</th>\n      <td>M1V</td>\n      <td>Scarborough</td>\n      <td>Milliken, Agincourt North, Steeles East, L'Amo...</td>\n      <td>43.81781</td>\n      <td>-79.28044</td>\n    </tr>\n  </tbody>\n</table>\n</div>",
                        "text/plain": "   Postalcode      Borough                                       Neighborhood  \\\n0         M1B  Scarborough                                     Malvern, Rouge   \n1         M1C  Scarborough             Rouge Hill, Port Union, Highland Creek   \n2         M1E  Scarborough                  Guildwood, Morningside, West Hill   \n3         M1G  Scarborough                                             Woburn   \n4         M1H  Scarborough                                          Cedarbrae   \n5         M1J  Scarborough                                Scarborough Village   \n6         M1K  Scarborough        Kennedy Park, Ionview, East Birchmount Park   \n7         M1L  Scarborough                    Golden Mile, Clairlea, Oakridge   \n8         M1M  Scarborough    Cliffside, Cliffcrest, Scarborough Village West   \n9         M1N  Scarborough                        Birch Cliff, Cliffside West   \n10        M1P  Scarborough  Dorset Park, Wexford Heights, Scarborough Town...   \n11        M1R  Scarborough                                  Wexford, Maryvale   \n12        M1S  Scarborough                                          Agincourt   \n13        M1T  Scarborough            Clarks Corners, Tam O'Shanter, Sullivan   \n14        M1V  Scarborough  Milliken, Agincourt North, Steeles East, L'Amo...   \n\n    Latitude  Longitude  \n0   43.81139  -79.19662  \n1   43.78574  -79.15875  \n2   43.76575  -79.17470  \n3   43.76812  -79.21761  \n4   43.76944  -79.23892  \n5   43.74446  -79.23117  \n6   43.72582  -79.26461  \n7   43.71289  -79.28506  \n8   43.72360  -79.23496  \n9   43.69510  -79.26466  \n10  43.75998  -79.26940  \n11  43.75075  -79.30054  \n12  43.79452  -79.26708  \n13  43.78491  -79.29722  \n14  43.81781  -79.28044  "
                    },
                    "execution_count": 9,
                    "metadata": {},
                    "output_type": "execute_result"
                }
            ],
            "source": "df_data_1.head(15)"
        },
        {
            "cell_type": "code",
            "execution_count": 10,
            "metadata": {},
            "outputs": [],
            "source": "# The code was removed by Watson Studio for sharing."
        },
        {
            "cell_type": "code",
            "execution_count": 12,
            "metadata": {},
            "outputs": [
                {
                    "data": {
                        "text/plain": "{'file_name': 'toronto2.csv',\n 'message': 'File saved to project storage.',\n 'bucket_name': 'courseracapstone-donotdelete-pr-vx0upcyigxo63z',\n 'asset_id': 'a075a16f-ff29-4601-a7be-864769725591'}"
                    },
                    "execution_count": 12,
                    "metadata": {},
                    "output_type": "execute_result"
                }
            ],
            "source": "project.save_data(data=df_data_1.to_csv(index=False),file_name='toronto2.csv',overwrite=True)"
        },
        {
            "cell_type": "code",
            "execution_count": null,
            "metadata": {},
            "outputs": [],
            "source": ""
        }
    ],
    "metadata": {
        "kernelspec": {
            "display_name": "Python 3.7",
            "language": "python",
            "name": "python3"
        },
        "language_info": {
            "codemirror_mode": {
                "name": "ipython",
                "version": 3
            },
            "file_extension": ".py",
            "mimetype": "text/x-python",
            "name": "python",
            "nbconvert_exporter": "python",
            "pygments_lexer": "ipython3",
            "version": "3.7.9"
        }
    },
    "nbformat": 4,
    "nbformat_minor": 1
}